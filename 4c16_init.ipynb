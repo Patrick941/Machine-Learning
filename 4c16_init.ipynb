{
  "nbformat": 4,
  "nbformat_minor": 0,
  "metadata": {
    "colab": {
      "provenance": []
    },
    "kernelspec": {
      "name": "python3",
      "display_name": "Python 3"
    },
    "language_info": {
      "name": "python"
    },
    "gpuClass": "standard"
  },
  "cells": [
    {
      "cell_type": "markdown",
      "source": [
        "This notebook should only be run once at the beginning of term.\n",
        "\n",
        "*Instructions:*\n",
        "* edit first cell to fill-in user information\n",
        "* evaluate all the other cells in sequence\n"
      ],
      "metadata": {
        "id": "Eyfvg3AHc_kC"
      }
    },
    {
      "cell_type": "code",
      "source": [
        "#--> only edit this cell <--\n",
        "\n",
        "username = \"\"     # eg. 'pitief' if 'pitief@tcd.ie' is tcd email\n",
        "real_name = \"\"   # eg. \"François Pitié\"\n",
        "key_value = \"\"            # paste private key from turing inside \"\""
      ],
      "metadata": {
        "id": "DwG_AtzYdtWN"
      },
      "execution_count": null,
      "outputs": []
    },
    {
      "cell_type": "code",
      "source": [
        "# mounting Google Drive\n",
        "from google.colab import drive\n",
        "drive.mount('/content/gdrive')\n",
        "\n",
        "# storing user info\n",
        "!mkdir -p /content/gdrive/MyDrive/4c16-labs/cfg\n",
        "key_value = key_value.replace('\\\\n', '\\n')\n",
        "bash_real_name = real_name.replace(' ', '_')\n",
        "with open('/content/gdrive/MyDrive/4c16-labs/cfg/custom_key', 'w') as f:\n",
        "    f.write(key_value)\n",
        "\n",
        "# run init script\n",
        "!wget -O /content/init_setup.py https://tcddeeplearning.blob.core.windows.net/deeplearning202324/init_setup.py\n",
        "%run /content/init_setup.py $username $bash_real_name"
      ],
      "metadata": {
        "id": "4bxjPIfJgjE_"
      },
      "execution_count": null,
      "outputs": []
    },
    {
      "cell_type": "code",
      "source": [
        "%run /content/init_setup.py $username $bash_real_name\n",
        "\n",
        "# Please read the output to see if there was error, if there was any error,\n",
        "# please contact any TAs to double check before going forward :)"
      ],
      "metadata": {
        "id": "lSDyIKZTzcTM"
      },
      "execution_count": null,
      "outputs": []
    },
    {
      "cell_type": "code",
      "source": [
        "# Change Working Directory\n",
        "%cd /content/gdrive/MyDrive/4c16-labs\n",
        "\n",
        "# Setup your work directory\n",
        "!git clone git@turing:{username}-code.git code\n",
        "!cd code && git remote add assesment git@turing:labs-assessment\n",
        "!touch code/.lab-to-assess\n",
        "\n",
        "# Setup Lab sources\n",
        "!git clone git@turing:labs-source-dist"
      ],
      "metadata": {
        "id": "-sV1dMJ8IjqK",
        "colab": {
          "base_uri": "https://localhost:8080/"
        },
        "outputId": "77eaea9b-4d40-4578-e4cc-b070d0587315"
      },
      "execution_count": null,
      "outputs": [
        {
          "output_type": "stream",
          "name": "stdout",
          "text": [
            "/content/gdrive/MyDrive/4c16-labs\n",
            "Cloning into 'code'...\n",
            "Warning: Permanently added '[deeplearningtest.uksouth.cloudapp.azure.com]:9000' (ED25519) to the list of known hosts.\n",
            "warning: You appear to have cloned an empty repository.\n",
            "Cloning into 'labs-source-dist'...\n",
            "remote: Enumerating objects: 36, done.\u001b[K\n",
            "remote: Counting objects: 100% (36/36), done.\u001b[K\n",
            "remote: Compressing objects: 100% (35/35), done.\u001b[K\n",
            "remote: Total 36 (delta 3), reused 0 (delta 0)\u001b[K\n",
            "Receiving objects: 100% (36/36), 262.39 KiB | 412.00 KiB/s, done.\n",
            "Resolving deltas: 100% (3/3), done.\n"
          ]
        }
      ]
    }
  ]
}