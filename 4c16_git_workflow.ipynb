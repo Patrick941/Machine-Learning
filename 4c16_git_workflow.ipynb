{
  "cells": [
    {
      "cell_type": "markdown",
      "metadata": {
        "id": "-8lIrP5ZdLTL"
      },
      "source": [
        "This notebook is to be used when working on labs.\n",
        "\n",
        "Instructions:\n",
        "* open this cell first (not yet the lab's notebook)\n",
        "* enter lab number in first cell\n",
        "* run second cell to checkout lab material in your google drive (you must always run this cell first, before starting working on a lab)\n",
        "* open lab's notebook and start working (keep this git-worflow notebook open)\n",
        "* use \"commit and push to master\"'s cell to save lab's work\n",
        "* use \"submit lab\"'s cell to get your lab automatically graded\n"
      ]
    },
    {
      "cell_type": "code",
      "execution_count": null,
      "metadata": {
        "id": "e_sjjsWKbvp4"
      },
      "outputs": [],
      "source": [
        "# Enter Lab ID to do\n",
        "lab_id = 7"
      ]
    },
    {
      "cell_type": "code",
      "execution_count": null,
      "metadata": {
        "colab": {
          "background_save": true,
          "base_uri": "https://localhost:8080/"
        },
        "id": "mv6sOouhby7J",
        "outputId": "3473fea0-e781-4d9d-9d89-d2fa7f6303d9"
      },
      "outputs": [
        {
          "name": "stdout",
          "output_type": "stream",
          "text": [
            "--2022-11-26 14:54:07--  http://4c16.ml/~mindfreeze/setup_labs.py\n",
            "Resolving 4c16.ml (4c16.ml)... 132.145.48.93\n",
            "Connecting to 4c16.ml (4c16.ml)|132.145.48.93|:80... connected.\n",
            "HTTP request sent, awaiting response... 200 OK\n",
            "Length: 3299 (3.2K) [text/plain]\n",
            "Saving to: ‘/content/setup_labs.py’\n",
            "\n",
            "/content/setup_labs 100%[===================>]   3.22K  --.-KB/s    in 0s      \n",
            "\n",
            "2022-11-26 14:54:08 (347 MB/s) - ‘/content/setup_labs.py’ saved [3299/3299]\n",
            "\n",
            "Mounted at /content/gdrive\n",
            "/content/gdrive/MyDrive/4c16-labs\n",
            "env: GIT_SSH_COMMAND=ssh -i /root/.ssh/custom_key -o IdentitiesOnly=yes -o StrictHostKeyChecking=no\n",
            "Session Setup is sucessful\n",
            "Warn: Code is getting deleted and replaced from git!\n",
            "CompletedProcess(args='cd code && git fetch origin && git reset --hard origin/master && git pull ', returncode=2, stdout=b'', stderr=b\"/bin/sh: 1: cd: can't cd to code\\n\")\n",
            "/content/gdrive/MyDrive/4c16-labs/code\n",
            "Lab Setup 7  is sucessful now, now start doing labs\n"
          ]
        }
      ],
      "source": [
        "#Setup lab script [Do not modify]\n",
        "\n",
        "import json\n",
        "!wget -O /content/setup_labs.py https://tcddeeplearning.blob.core.windows.net/deeplearning202324/setup_labs.py\n",
        "%run /content/setup_labs.py $lab_id\n",
        "\n",
        "with open('/content/gdrive/MyDrive/4c16-labs/cfg/usr_cfg') as f:\n",
        "  username = json.load(f)['username']"
      ]
    },
    {
      "cell_type": "markdown",
      "metadata": {
        "id": "lrJ55VyoPf9T"
      },
      "source": [
        "**Now Go to GDrive Folder and open the Lab's ipynb Notebook to do the labs**\n",
        "Once you finish it, return back to here"
      ]
    },
    {
      "cell_type": "markdown",
      "metadata": {
        "id": "ZQ5BBwEeyrgd"
      },
      "source": [
        " Run Below Cell to Commit changes and Run assesment."
      ]
    },
    {
      "cell_type": "code",
      "execution_count": null,
      "metadata": {
        "colab": {
          "base_uri": "https://localhost:8080/"
        },
        "id": "nFZ29V_o45Df",
        "outputId": "11874b8d-c8d3-4873-9dc6-b40ebafa470b"
      },
      "outputs": [
        {
          "name": "stdout",
          "output_type": "stream",
          "text": [
            "[master 85c3298] Committing Lab 07 for running tests\n",
            " 2 files changed, 2 insertions(+), 544 deletions(-)\n",
            " rewrite lab-07/Lab 7.ipynb (100%)\n",
            "Warning: Permanently added '[turing.mee.tcd.ie]:9000,[134.226.86.27]:9000' (ECDSA) to the list of known hosts.\n",
            "Counting objects: 5, done.\n",
            "Delta compression using up to 2 threads.\n",
            "Compressing objects: 100% (4/4), done.\n",
            "Writing objects: 100% (5/5), 2.66 KiB | 544.00 KiB/s, done.\n",
            "Total 5 (delta 3), reused 0 (delta 0)\n",
            "To turing:vibhootv-code.git\n",
            "   a194639..85c3298  master -> master\n"
          ]
        }
      ],
      "source": [
        "# Commit and Push (every time you want to save your work)\n",
        "# Note: it takes about 10s for google drive to update files, make sure your last edit was no less than ~10s ago.\n",
        "\n",
        "# staging changes\n",
        "!git add lab-{lab_id}/* .lab-to-assess\n",
        "\n",
        "# commit\n",
        "!git commit -m \"Committing Lab {lab_id} for running tests\"\n",
        "\n",
        "# Push to your git remote\n",
        "!git push origin master"
      ]
    },
    {
      "cell_type": "code",
      "execution_count": null,
      "metadata": {
        "colab": {
          "base_uri": "https://localhost:8080/"
        },
        "id": "sx-x3ZHETRZ4",
        "outputId": "6b983b9a-b8df-4f9a-922c-63ce79194fe7"
      },
      "outputs": [
        {
          "name": "stdout",
          "output_type": "stream",
          "text": [
            "Counting objects: 5, done.\n",
            "Delta compression using up to 2 threads.\n",
            "Compressing objects:  25% (1/4)   \rCompressing objects:  50% (2/4)   \rCompressing objects:  75% (3/4)   \rCompressing objects: 100% (4/4)   \rCompressing objects: 100% (4/4), done.\n",
            "Writing objects:  20% (1/5)   \rWriting objects:  40% (2/5)   \rWriting objects:  60% (3/5)   \rWriting objects:  80% (4/5)   \rWriting objects: 100% (5/5)   \rWriting objects: 100% (5/5), 2.66 KiB | 680.00 KiB/s, done.\n",
            "Total 5 (delta 3), reused 0 (delta 0)\n",
            "remote: \n",
            "remote: Processing submission.\u001b[K\n",
            "remote: \n",
            "remote: 2022-09-05 13:22:32.385241: W tensorflow/stream_executor/platform/default/dso_loader.cc:64] Could not load dynamic library 'libcudart.so.11.0'; dlerror: libcudart.so.11.0: cannot open shared object file: No such file or directory\u001b[K\n",
            "remote: 2022-09-05 13:22:32.385375: I tensorflow/stream_executor/cuda/cudart_stub.cc:29] Ignore above cudart dlerror if you do not have a GPU set up on your machine.\u001b[K\n",
            "remote: 2022-09-05 13:22:34.817404: W tensorflow/stream_executor/platform/default/dso_loader.cc:64] Could not load dynamic library 'libcuda.so.1'; dlerror: libcuda.so.1: cannot open shared object file: No such file or directory\u001b[K\n",
            "remote: 2022-09-05 13:22:34.817600: W tensorflow/stream_executor/cuda/cuda_driver.cc:269] failed call to cuInit: UNKNOWN ERROR (303)\u001b[K\n",
            "remote: 2022-09-05 13:22:34.817726: I tensorflow/stream_executor/cuda/cuda_diagnostics.cc:156] kernel driver does not appear to be running on this host (turing): /proc/driver/nvidia/version does not exist\u001b[K\n",
            "remote: 2022-09-05 13:22:34.818318: I tensorflow/core/platform/cpu_feature_guard.cc:151] This TensorFlow binary is optimized with oneAPI Deep Neural Network Library (oneDNN) to use the following CPU instructions in performance-critical operations:  AVX2 FMA\u001b[K\n",
            "remote: To enable them in other operations, rebuild TensorFlow with the appropriate compiler flags.\u001b[K\n",
            "remote: WARNING:tensorflow:Error in loading the saved optimizer state. As a result, your model is starting with a freshly initialized optimizer.\u001b[K\n",
            "remote: Your accuracy: 80.20%\u001b[K\n",
            "remote: \n",
            "remote: \u001b[94mTesting ./lab-07/lab_7.py: test_00_question_1\u001b[0m\u001b[K\n",
            "remote: Did you beat 60% accuracy?:..............................................................................\u001b[92mPASSED\u001b[0m\u001b[K\n",
            "remote: \n",
            "remote: \u001b[94mTesting ./lab-07/lab_7.py: test_00_question_2\u001b[0m\u001b[K\n",
            "remote: Did you beat 65% accuracy?:..............................................................................\u001b[92mPASSED\u001b[0m\u001b[K\n",
            "remote: \n",
            "remote: \u001b[94mTesting ./lab-07/lab_7.py: test_00_question_3\u001b[0m\u001b[K\n",
            "remote: Did you beat 70% accuracy?:..............................................................................\u001b[92mPASSED\u001b[0m\u001b[K\n",
            "remote: \n",
            "remote: \u001b[94mTesting ./lab-07/lab_7.py: test_00_question_4\u001b[0m\u001b[K\n",
            "remote: Did you beat 75% accuracy?:..............................................................................\u001b[92mPASSED\u001b[0m\u001b[K\n",
            "remote: \n",
            "remote: \u001b[94mTesting ./lab-07/lab_7.py: test_00_question_5\u001b[0m\u001b[K\n",
            "remote: Did you beat 80% accuracy?:..............................................................................\u001b[92mPASSED\u001b[0m\u001b[K\n",
            "remote: \n",
            "remote: \u001b[94mTesting ./lab-07/lab_7.py: test_00_question_5_and_a_half\u001b[0m\u001b[K\n",
            "remote: Did you beat 85% accuracy?:....................................................................\u001b[91mINCORRECT_RESULT\u001b[0m\u001b[K\n",
            "remote: \n",
            "remote: \u001b[94mTesting ./lab-07/lab_7.py: test_00_question_6\u001b[0m\u001b[K\n",
            "remote: Did you beat 90% accuracy?:....................................................................\u001b[91mINCORRECT_RESULT\u001b[0m\u001b[K\n",
            "remote: \n",
            "remote: \u001b[94mTesting ./lab-07/lab_7.py: test_00_question_7\u001b[0m\u001b[K\n",
            "remote: Did you beat 95% accuracy?:....................................................................\u001b[91mINCORRECT_RESULT\u001b[0m\u001b[K\n",
            "remote: \n",
            "remote: **** 5/8 tests passed (3 produced incorrect results) ****\u001b[K\n",
            "To turing:labs-assessment\n",
            "   a194639..85c3298  master -> students/vibhootv/code\n"
          ]
        }
      ],
      "source": [
        "# Submit Lab for Assesment\n",
        "# (you should first commit & push using previous cell)\n",
        "\n",
        "!git push assesment master:students/{username}/code -f"
      ]
    }
  ],
  "metadata": {
    "colab": {
      "provenance": []
    },
    "gpuClass": "standard",
    "kernelspec": {
      "display_name": "Python 3",
      "name": "python3"
    },
    "language_info": {
      "name": "python"
    }
  },
  "nbformat": 4,
  "nbformat_minor": 0
}